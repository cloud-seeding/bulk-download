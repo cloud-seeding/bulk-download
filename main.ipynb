{
 "cells": [
  {
   "cell_type": "code",
   "execution_count": 1,
   "metadata": {},
   "outputs": [],
   "source": [
    "import pandas as pd"
   ]
  },
  {
   "cell_type": "code",
   "execution_count": 2,
   "metadata": {},
   "outputs": [
    {
     "data": {
      "text/html": [
       "<div>\n",
       "<style scoped>\n",
       "    .dataframe tbody tr th:only-of-type {\n",
       "        vertical-align: middle;\n",
       "    }\n",
       "\n",
       "    .dataframe tbody tr th {\n",
       "        vertical-align: top;\n",
       "    }\n",
       "\n",
       "    .dataframe thead th {\n",
       "        text-align: right;\n",
       "    }\n",
       "</style>\n",
       "<table border=\"1\" class=\"dataframe\">\n",
       "  <thead>\n",
       "    <tr style=\"text-align: right;\">\n",
       "      <th></th>\n",
       "      <th>web-scraper-order</th>\n",
       "      <th>web-scraper-start-url</th>\n",
       "      <th>size</th>\n",
       "    </tr>\n",
       "  </thead>\n",
       "  <tbody>\n",
       "    <tr>\n",
       "      <th>0</th>\n",
       "      <td>1728486848-1</td>\n",
       "      <td>https://psl.noaa.gov/thredds/catalog/Datasets/...</td>\n",
       "      <td>718.8 Mbytes</td>\n",
       "    </tr>\n",
       "    <tr>\n",
       "      <th>1</th>\n",
       "      <td>1728486848-2</td>\n",
       "      <td>https://psl.noaa.gov/thredds/catalog/Datasets/...</td>\n",
       "      <td>650.3 Mbytes</td>\n",
       "    </tr>\n",
       "    <tr>\n",
       "      <th>2</th>\n",
       "      <td>1728486848-3</td>\n",
       "      <td>https://psl.noaa.gov/thredds/catalog/Datasets/...</td>\n",
       "      <td>713.3 Mbytes</td>\n",
       "    </tr>\n",
       "    <tr>\n",
       "      <th>3</th>\n",
       "      <td>1728486848-4</td>\n",
       "      <td>https://psl.noaa.gov/thredds/catalog/Datasets/...</td>\n",
       "      <td>678.9 Mbytes</td>\n",
       "    </tr>\n",
       "    <tr>\n",
       "      <th>4</th>\n",
       "      <td>1728486848-5</td>\n",
       "      <td>https://psl.noaa.gov/thredds/catalog/Datasets/...</td>\n",
       "      <td>686.4 Mbytes</td>\n",
       "    </tr>\n",
       "  </tbody>\n",
       "</table>\n",
       "</div>"
      ],
      "text/plain": [
       "  web-scraper-order                              web-scraper-start-url  \\\n",
       "0      1728486848-1  https://psl.noaa.gov/thredds/catalog/Datasets/...   \n",
       "1      1728486848-2  https://psl.noaa.gov/thredds/catalog/Datasets/...   \n",
       "2      1728486848-3  https://psl.noaa.gov/thredds/catalog/Datasets/...   \n",
       "3      1728486848-4  https://psl.noaa.gov/thredds/catalog/Datasets/...   \n",
       "4      1728486848-5  https://psl.noaa.gov/thredds/catalog/Datasets/...   \n",
       "\n",
       "           size  \n",
       "0  718.8 Mbytes  \n",
       "1  650.3 Mbytes  \n",
       "2  713.3 Mbytes  \n",
       "3  678.9 Mbytes  \n",
       "4  686.4 Mbytes  "
      ]
     },
     "execution_count": 2,
     "metadata": {},
     "output_type": "execute_result"
    }
   ],
   "source": [
    "size = pd.read_csv(\"./pressure_catalog_size.csv\")\n",
    "size.head()"
   ]
  },
  {
   "cell_type": "code",
   "execution_count": 3,
   "metadata": {},
   "outputs": [
    {
     "name": "stdout",
     "output_type": "stream",
     "text": [
      "<class 'pandas.core.series.Series'>\n",
      "RangeIndex: 3843 entries, 0 to 3842\n",
      "Series name: size\n",
      "Non-Null Count  Dtype \n",
      "--------------  ----- \n",
      "3843 non-null   object\n",
      "dtypes: object(1)\n",
      "memory usage: 30.2+ KB\n"
     ]
    }
   ],
   "source": [
    "size = size['size']\n",
    "size.info()"
   ]
  },
  {
   "cell_type": "code",
   "execution_count": 4,
   "metadata": {},
   "outputs": [
    {
     "data": {
      "text/plain": [
       "3843"
      ]
     },
     "execution_count": 4,
     "metadata": {},
     "output_type": "execute_result"
    }
   ],
   "source": [
    "size = list(size)\n",
    "len(size)"
   ]
  },
  {
   "cell_type": "code",
   "execution_count": 5,
   "metadata": {},
   "outputs": [
    {
     "data": {
      "text/plain": [
       "3720881.2199999965"
      ]
     },
     "execution_count": 5,
     "metadata": {},
     "output_type": "execute_result"
    }
   ],
   "source": [
    "total_size = 0\n",
    "\n",
    "for item in size:\n",
    "    num, mb = item.split()\n",
    "    mb = \"M\" in mb\n",
    "    num = float(num)\n",
    "\n",
    "    if not mb:\n",
    "        num *= 1000\n",
    "\n",
    "    total_size += num\n",
    "\n",
    "total_size"
   ]
  },
  {
   "cell_type": "code",
   "execution_count": 6,
   "metadata": {},
   "outputs": [
    {
     "data": {
      "text/plain": [
       "3720.8812199999966"
      ]
     },
     "execution_count": 6,
     "metadata": {},
     "output_type": "execute_result"
    }
   ],
   "source": [
    "total_size / 1000"
   ]
  },
  {
   "cell_type": "code",
   "execution_count": 7,
   "metadata": {},
   "outputs": [
    {
     "data": {
      "text/plain": [
       "3.7208812199999963"
      ]
     },
     "execution_count": 7,
     "metadata": {},
     "output_type": "execute_result"
    }
   ],
   "source": [
    "total_size / 1000000"
   ]
  },
  {
   "cell_type": "code",
   "execution_count": null,
   "metadata": {},
   "outputs": [],
   "source": []
  },
  {
   "cell_type": "code",
   "execution_count": 8,
   "metadata": {},
   "outputs": [
    {
     "data": {
      "text/html": [
       "<div>\n",
       "<style scoped>\n",
       "    .dataframe tbody tr th:only-of-type {\n",
       "        vertical-align: middle;\n",
       "    }\n",
       "\n",
       "    .dataframe tbody tr th {\n",
       "        vertical-align: top;\n",
       "    }\n",
       "\n",
       "    .dataframe thead th {\n",
       "        text-align: right;\n",
       "    }\n",
       "</style>\n",
       "<table border=\"1\" class=\"dataframe\">\n",
       "  <thead>\n",
       "    <tr style=\"text-align: right;\">\n",
       "      <th></th>\n",
       "      <th>name</th>\n",
       "      <th>url</th>\n",
       "      <th>p1</th>\n",
       "      <th>p2</th>\n",
       "      <th>p3</th>\n",
       "      <th>p4</th>\n",
       "    </tr>\n",
       "  </thead>\n",
       "  <tbody>\n",
       "    <tr>\n",
       "      <th>0</th>\n",
       "      <td>acpcp.1979.nc</td>\n",
       "      <td>https://psl.noaa.gov/thredds/catalog/Datasets/...</td>\n",
       "      <td>monolevel</td>\n",
       "      <td>Dailies</td>\n",
       "      <td>NARR</td>\n",
       "      <td>catalog.html?dataset=Datasets</td>\n",
       "    </tr>\n",
       "    <tr>\n",
       "      <th>1</th>\n",
       "      <td>acpcp.1980.nc</td>\n",
       "      <td>https://psl.noaa.gov/thredds/catalog/Datasets/...</td>\n",
       "      <td>monolevel</td>\n",
       "      <td>Dailies</td>\n",
       "      <td>NARR</td>\n",
       "      <td>catalog.html?dataset=Datasets</td>\n",
       "    </tr>\n",
       "    <tr>\n",
       "      <th>2</th>\n",
       "      <td>acpcp.1981.nc</td>\n",
       "      <td>https://psl.noaa.gov/thredds/catalog/Datasets/...</td>\n",
       "      <td>monolevel</td>\n",
       "      <td>Dailies</td>\n",
       "      <td>NARR</td>\n",
       "      <td>catalog.html?dataset=Datasets</td>\n",
       "    </tr>\n",
       "    <tr>\n",
       "      <th>3</th>\n",
       "      <td>acpcp.1982.nc</td>\n",
       "      <td>https://psl.noaa.gov/thredds/catalog/Datasets/...</td>\n",
       "      <td>monolevel</td>\n",
       "      <td>Dailies</td>\n",
       "      <td>NARR</td>\n",
       "      <td>catalog.html?dataset=Datasets</td>\n",
       "    </tr>\n",
       "    <tr>\n",
       "      <th>4</th>\n",
       "      <td>acpcp.1983.nc</td>\n",
       "      <td>https://psl.noaa.gov/thredds/catalog/Datasets/...</td>\n",
       "      <td>monolevel</td>\n",
       "      <td>Dailies</td>\n",
       "      <td>NARR</td>\n",
       "      <td>catalog.html?dataset=Datasets</td>\n",
       "    </tr>\n",
       "  </tbody>\n",
       "</table>\n",
       "</div>"
      ],
      "text/plain": [
       "            name                                                url  \\\n",
       "0  acpcp.1979.nc  https://psl.noaa.gov/thredds/catalog/Datasets/...   \n",
       "1  acpcp.1980.nc  https://psl.noaa.gov/thredds/catalog/Datasets/...   \n",
       "2  acpcp.1981.nc  https://psl.noaa.gov/thredds/catalog/Datasets/...   \n",
       "3  acpcp.1982.nc  https://psl.noaa.gov/thredds/catalog/Datasets/...   \n",
       "4  acpcp.1983.nc  https://psl.noaa.gov/thredds/catalog/Datasets/...   \n",
       "\n",
       "          p1       p2    p3                             p4  \n",
       "0  monolevel  Dailies  NARR  catalog.html?dataset=Datasets  \n",
       "1  monolevel  Dailies  NARR  catalog.html?dataset=Datasets  \n",
       "2  monolevel  Dailies  NARR  catalog.html?dataset=Datasets  \n",
       "3  monolevel  Dailies  NARR  catalog.html?dataset=Datasets  \n",
       "4  monolevel  Dailies  NARR  catalog.html?dataset=Datasets  "
      ]
     },
     "execution_count": 8,
     "metadata": {},
     "output_type": "execute_result"
    }
   ],
   "source": [
    "df = pd.read_csv('narr_catalog.csv')\n",
    "df.head()"
   ]
  },
  {
   "cell_type": "code",
   "execution_count": 9,
   "metadata": {},
   "outputs": [
    {
     "data": {
      "text/html": [
       "<div>\n",
       "<style scoped>\n",
       "    .dataframe tbody tr th:only-of-type {\n",
       "        vertical-align: middle;\n",
       "    }\n",
       "\n",
       "    .dataframe tbody tr th {\n",
       "        vertical-align: top;\n",
       "    }\n",
       "\n",
       "    .dataframe thead th {\n",
       "        text-align: right;\n",
       "    }\n",
       "</style>\n",
       "<table border=\"1\" class=\"dataframe\">\n",
       "  <thead>\n",
       "    <tr style=\"text-align: right;\">\n",
       "      <th></th>\n",
       "      <th>name</th>\n",
       "      <th>url</th>\n",
       "      <th>p1</th>\n",
       "      <th>p2</th>\n",
       "      <th>p3</th>\n",
       "      <th>p4</th>\n",
       "    </tr>\n",
       "  </thead>\n",
       "  <tbody>\n",
       "    <tr>\n",
       "      <th>3542</th>\n",
       "      <td>air.197901.nc</td>\n",
       "      <td>https://psl.noaa.gov/thredds/catalog/Datasets/...</td>\n",
       "      <td>pressure</td>\n",
       "      <td>Dailies</td>\n",
       "      <td>NARR</td>\n",
       "      <td>catalog.html?dataset=Datasets</td>\n",
       "    </tr>\n",
       "    <tr>\n",
       "      <th>3543</th>\n",
       "      <td>air.197902.nc</td>\n",
       "      <td>https://psl.noaa.gov/thredds/catalog/Datasets/...</td>\n",
       "      <td>pressure</td>\n",
       "      <td>Dailies</td>\n",
       "      <td>NARR</td>\n",
       "      <td>catalog.html?dataset=Datasets</td>\n",
       "    </tr>\n",
       "    <tr>\n",
       "      <th>3544</th>\n",
       "      <td>air.197903.nc</td>\n",
       "      <td>https://psl.noaa.gov/thredds/catalog/Datasets/...</td>\n",
       "      <td>pressure</td>\n",
       "      <td>Dailies</td>\n",
       "      <td>NARR</td>\n",
       "      <td>catalog.html?dataset=Datasets</td>\n",
       "    </tr>\n",
       "    <tr>\n",
       "      <th>3545</th>\n",
       "      <td>air.197904.nc</td>\n",
       "      <td>https://psl.noaa.gov/thredds/catalog/Datasets/...</td>\n",
       "      <td>pressure</td>\n",
       "      <td>Dailies</td>\n",
       "      <td>NARR</td>\n",
       "      <td>catalog.html?dataset=Datasets</td>\n",
       "    </tr>\n",
       "    <tr>\n",
       "      <th>3546</th>\n",
       "      <td>air.197905.nc</td>\n",
       "      <td>https://psl.noaa.gov/thredds/catalog/Datasets/...</td>\n",
       "      <td>pressure</td>\n",
       "      <td>Dailies</td>\n",
       "      <td>NARR</td>\n",
       "      <td>catalog.html?dataset=Datasets</td>\n",
       "    </tr>\n",
       "  </tbody>\n",
       "</table>\n",
       "</div>"
      ],
      "text/plain": [
       "               name                                                url  \\\n",
       "3542  air.197901.nc  https://psl.noaa.gov/thredds/catalog/Datasets/...   \n",
       "3543  air.197902.nc  https://psl.noaa.gov/thredds/catalog/Datasets/...   \n",
       "3544  air.197903.nc  https://psl.noaa.gov/thredds/catalog/Datasets/...   \n",
       "3545  air.197904.nc  https://psl.noaa.gov/thredds/catalog/Datasets/...   \n",
       "3546  air.197905.nc  https://psl.noaa.gov/thredds/catalog/Datasets/...   \n",
       "\n",
       "            p1       p2    p3                             p4  \n",
       "3542  pressure  Dailies  NARR  catalog.html?dataset=Datasets  \n",
       "3543  pressure  Dailies  NARR  catalog.html?dataset=Datasets  \n",
       "3544  pressure  Dailies  NARR  catalog.html?dataset=Datasets  \n",
       "3545  pressure  Dailies  NARR  catalog.html?dataset=Datasets  \n",
       "3546  pressure  Dailies  NARR  catalog.html?dataset=Datasets  "
      ]
     },
     "execution_count": 9,
     "metadata": {},
     "output_type": "execute_result"
    }
   ],
   "source": [
    "df = df[df['p1'] == \"pressure\"]\n",
    "df.head()"
   ]
  },
  {
   "cell_type": "code",
   "execution_count": 12,
   "metadata": {},
   "outputs": [
    {
     "data": {
      "text/plain": [
       "dict_keys(['air', 'hgt', 'omega', 'shum', 'tke', 'uwnd', 'vwnd', 'wspd'])"
      ]
     },
     "execution_count": 12,
     "metadata": {},
     "output_type": "execute_result"
    }
   ],
   "source": [
    "systems = {}\n",
    "\n",
    "for _, row in df.iterrows():\n",
    "    system = row['name'].split('.')[0].strip()\n",
    "    url = f\"https://psl.noaa.gov/thredds/fileServer/Datasets/NARR/pressure/{\n",
    "        row['name']}\"\n",
    "\n",
    "    systems[system] = systems.get(system, []) + [url]\n",
    "\n",
    "systems.keys()"
   ]
  },
  {
   "cell_type": "code",
   "execution_count": 13,
   "metadata": {},
   "outputs": [
    {
     "data": {
      "text/plain": [
       "'https://psl.noaa.gov/thredds/fileServer/Datasets/NARR/pressure/air.197901.nc'"
      ]
     },
     "execution_count": 13,
     "metadata": {},
     "output_type": "execute_result"
    }
   ],
   "source": [
    "systems['air'][0]"
   ]
  },
  {
   "cell_type": "code",
   "execution_count": 14,
   "metadata": {},
   "outputs": [],
   "source": [
    "import json\n",
    "\n",
    "json.dump(systems, open('./catalog.json', 'w'))"
   ]
  },
  {
   "cell_type": "code",
   "execution_count": null,
   "metadata": {},
   "outputs": [],
   "source": []
  }
 ],
 "metadata": {
  "kernelspec": {
   "display_name": "Python 3",
   "language": "python",
   "name": "python3"
  },
  "language_info": {
   "codemirror_mode": {
    "name": "ipython",
    "version": 3
   },
   "file_extension": ".py",
   "mimetype": "text/x-python",
   "name": "python",
   "nbconvert_exporter": "python",
   "pygments_lexer": "ipython3",
   "version": "3.12.4"
  }
 },
 "nbformat": 4,
 "nbformat_minor": 2
}
